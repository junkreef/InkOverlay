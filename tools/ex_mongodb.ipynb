{
 "cells": [
  {
   "cell_type": "code",
   "execution_count": null,
   "metadata": {},
   "outputs": [],
   "source": [
    "import json\n",
    "from dbmanager import DbManager\n",
    "from pymongo import MongoClient\n",
    "import sys\n",
    "import tomllib\n",
    "\n",
    "sys.path.append(\"../\")\n",
    "\n",
    "\n",
    "with open('../config.toml', 'rb') as f:\n",
    "    conf = tomllib.load(f)\n",
    "\n",
    "mongo_client = MongoClient(conf[\"MongoDb\"][\"host\"], conf[\"MongoDb\"][\"port\"])\n",
    "\n",
    "db_battle = mongo_client['inkoverlay'].battleHistory\n",
    "db_coop = mongo_client['inkoverlay'].coopHistory\n",
    "\n",
    "db = DbManager('../battlehistory.db')\n"
   ]
  },
  {
   "cell_type": "code",
   "execution_count": null,
   "metadata": {},
   "outputs": [],
   "source": [
    "battle_histories = [json.loads(x[1]) for x in db.get_cursor().execute(\n",
    "    'SELECT * from history WHERE type==\"battle\"').fetchall()]\n",
    "for battle_history in battle_histories:\n",
    "    if db_battle.find_one({\"id\": battle_history[\"id\"]}) is None:\n",
    "        db_battle.insert_one(battle_history)\n"
   ]
  },
  {
   "cell_type": "code",
   "execution_count": null,
   "metadata": {},
   "outputs": [],
   "source": [
    "coop_histories = [json.loads(x[1]) for x in db.get_cursor().execute(\n",
    "    'SELECT * from history WHERE type==\"coop\"').fetchall()]\n",
    "for coop_history in coop_histories:\n",
    "    if db_coop.find_one({\"id\": coop_history[\"id\"]}) is None:\n",
    "        db_coop.insert_one(coop_history)\n"
   ]
  },
  {
   "cell_type": "code",
   "execution_count": null,
   "metadata": {},
   "outputs": [],
   "source": []
  }
 ],
 "metadata": {
  "kernelspec": {
   "display_name": ".venv",
   "language": "python",
   "name": "python3"
  },
  "language_info": {
   "codemirror_mode": {
    "name": "ipython",
    "version": 3
   },
   "file_extension": ".py",
   "mimetype": "text/x-python",
   "name": "python",
   "nbconvert_exporter": "python",
   "pygments_lexer": "ipython3",
   "version": "3.11.1"
  },
  "orig_nbformat": 4,
  "vscode": {
   "interpreter": {
    "hash": "a5f8986e281f0922ee3b45492babb0c0c7aaef080cd4a5e66b32be5ca7ab9a63"
   }
  }
 },
 "nbformat": 4,
 "nbformat_minor": 2
}
